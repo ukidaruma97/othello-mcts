{
 "cells": [
  {
   "cell_type": "code",
   "execution_count": 2,
   "metadata": {},
   "outputs": [
    {
     "ename": "ModuleNotFoundError",
     "evalue": "No module named 'numpy'",
     "output_type": "error",
     "traceback": [
      "\u001b[1;31m---------------------------------------------------------------------------\u001b[0m",
      "\u001b[1;31mModuleNotFoundError\u001b[0m                       Traceback (most recent call last)",
      "\u001b[1;32mc:\\Users\\ukida\\Documents\\GitHub\\othello-mcts\\heatmap.ipynb Cell 1'\u001b[0m in \u001b[0;36m<cell line: 1>\u001b[1;34m()\u001b[0m\n\u001b[1;32m----> <a href='vscode-notebook-cell:/c%3A/Users/ukida/Documents/GitHub/othello-mcts/heatmap.ipynb#ch0000000?line=0'>1</a>\u001b[0m \u001b[39mimport\u001b[39;00m \u001b[39mnumpy\u001b[39;00m \u001b[39mas\u001b[39;00m \u001b[39mnp\u001b[39;00m\n\u001b[0;32m      <a href='vscode-notebook-cell:/c%3A/Users/ukida/Documents/GitHub/othello-mcts/heatmap.ipynb#ch0000000?line=1'>2</a>\u001b[0m \u001b[39mimport\u001b[39;00m \u001b[39mmatplotlib\u001b[39;00m\u001b[39m.\u001b[39;00m\u001b[39mpyplot\u001b[39;00m \u001b[39mas\u001b[39;00m \u001b[39mplt\u001b[39;00m\n\u001b[0;32m      <a href='vscode-notebook-cell:/c%3A/Users/ukida/Documents/GitHub/othello-mcts/heatmap.ipynb#ch0000000?line=3'>4</a>\u001b[0m data \u001b[39m=\u001b[39m np\u001b[39m.\u001b[39mgenfromtxt(\u001b[39m\"\u001b[39m\u001b[39mmcts_1000.csv\u001b[39m\u001b[39m\"\u001b[39m, delimiter\u001b[39m=\u001b[39m\u001b[39m\"\u001b[39m\u001b[39m,\u001b[39m\u001b[39m\"\u001b[39m)\n",
      "\u001b[1;31mModuleNotFoundError\u001b[0m: No module named 'numpy'"
     ]
    }
   ],
   "source": [
    "import numpy as np\n",
    "import matplotlib.pyplot as plt\n",
    "\n",
    "data = np.genfromtxt(\"mcts_1000.csv\", delimiter=\",\")\n",
    "plt.imshow(data, cmap = 'hot_r', interpolation='nearest')\n",
    "plt.show()\n",
    "\n",
    "data = np.genfromtxt(\"mcts_2000.csv\", delimiter=\",\")\n",
    "plt.imshow(data, cmap = 'hot_r', interpolation='nearest')\n",
    "plt.show()\n",
    "\n",
    "data = np.genfromtxt(\"mcts_3000.csv\", delimiter=\",\")\n",
    "plt.imshow(data, cmap = 'hot_r', interpolation='nearest')\n",
    "plt.show()\n",
    "\n",
    "data = np.genfromtxt(\"mcts_4000.csv\", delimiter=\",\")\n",
    "plt.imshow(data, cmap = 'hot_r', interpolation='nearest')\n",
    "plt.show()"
   ]
  },
  {
   "cell_type": "code",
   "execution_count": null,
   "metadata": {},
   "outputs": [],
   "source": []
  }
 ],
 "metadata": {
  "kernelspec": {
   "display_name": "Python 3.10.2 64-bit",
   "language": "python",
   "name": "python3"
  },
  "language_info": {
   "codemirror_mode": {
    "name": "ipython",
    "version": 3
   },
   "file_extension": ".py",
   "mimetype": "text/x-python",
   "name": "python",
   "nbconvert_exporter": "python",
   "pygments_lexer": "ipython3",
   "version": "3.10.2"
  },
  "orig_nbformat": 4,
  "vscode": {
   "interpreter": {
    "hash": "ea6be6ed619a92be1322dbeb68299ecf81779abdc26586b8859bf160c4f9bbd9"
   }
  }
 },
 "nbformat": 4,
 "nbformat_minor": 2
}
